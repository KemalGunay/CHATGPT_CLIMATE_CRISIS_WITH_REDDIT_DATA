{
 "cells": [
  {
   "cell_type": "code",
   "execution_count": 3,
   "metadata": {
    "collapsed": true
   },
   "outputs": [],
   "source": [
    "\n",
    "import pandas as pd\n",
    "import praw"
   ]
  },
  {
   "cell_type": "code",
   "execution_count": 4,
   "outputs": [],
   "source": [
    "# Create a read only Reddit instance\n",
    "reddit = praw.Reddit(client_id = \"2kqYPNhTBxIGQmtRpBrhXw\",\n",
    "                     client_secret = \"fACwuwXOvkyJm_vjWIR-lRGG44PPtw\",\n",
    "                     redirect_url = \"http://localhost:8080\",\n",
    "                     user_agent = \"KemalGunay\")"
   ],
   "metadata": {
    "collapsed": false,
    "pycharm": {
     "name": "#%%\n"
    }
   }
  },
  {
   "cell_type": "markdown",
   "source": [
    "# Get Reddit Data"
   ],
   "metadata": {
    "collapsed": false,
    "pycharm": {
     "name": "#%% md\n"
    }
   }
  },
  {
   "cell_type": "code",
   "execution_count": 5,
   "outputs": [],
   "source": [
    "def get_top_posts(subreddit_list='climatecrisis', limit=1000, time_filter='all'):\n",
    "\n",
    "    # Create a read only Reddit instance\n",
    "    reddit = praw.Reddit(client_id = \"2kqYPNhTBxIGQmtRpBrhXw\",\n",
    "                     client_secret = \"fACwuwXOvkyJm_vjWIR-lRGG44PPtw\",\n",
    "                     redirect_url = \"http://localhost:8080\",\n",
    "                     user_agent = \"KemalGunay\")\n",
    "\n",
    "    posts = reddit.subreddit(subreddit_list).top(time_filter=time_filter, limit=limit)\n",
    "\n",
    "    # Initialize post dataframe\n",
    "    posts_df = []\n",
    "\n",
    "    for post in posts:\n",
    "        posts_df.append({'post_id': post.id,\n",
    "                        'subreddit': post.subreddit,\n",
    "                        'created_utc': post.created_utc,\n",
    "                        'selftext': post.selftext,\n",
    "                        'post_url': post.url,\n",
    "                        'post_title': post.title,\n",
    "                        'link_flair_text': post.link_flair_text,\n",
    "                        'score': post.score,\n",
    "                        'num_comments': post.num_comments,\n",
    "                        'upvote_ratio': post.upvote_ratio\n",
    "                        })\n",
    "\n",
    "    return pd.DataFrame(posts_df)\n",
    "\n"
   ],
   "metadata": {
    "collapsed": false,
    "pycharm": {
     "name": "#%%\n"
    }
   }
  },
  {
   "cell_type": "code",
   "execution_count": 17,
   "outputs": [],
   "source": [
    "posts_df = get_top_posts(subreddit_list='climatecrisis', limit=300, time_filter='all')"
   ],
   "metadata": {
    "collapsed": false,
    "pycharm": {
     "name": "#%%\n"
    }
   }
  },
  {
   "cell_type": "code",
   "execution_count": 18,
   "outputs": [],
   "source": [
    "posts_df.to_csv('CLIMATE_posts.csv', header=True, index=False)\n"
   ],
   "metadata": {
    "collapsed": false,
    "pycharm": {
     "name": "#%%\n"
    }
   }
  },
  {
   "cell_type": "code",
   "execution_count": 19,
   "outputs": [
    {
     "data": {
      "text/plain": "    post_id      subreddit   created_utc selftext  \\\n0    iroh4c  ClimateCrisis  1.599958e+09            \n1    g2zapw  ClimateCrisis  1.587119e+09            \n2    hqzo7h  ClimateCrisis  1.594726e+09            \n3    f5e1o5  ClimateCrisis  1.581968e+09            \n4    ezy7wf  ClimateCrisis  1.581020e+09            \n..      ...            ...           ...      ...   \n295  x36qdq  ClimateCrisis  1.662036e+09            \n296  wrik9q  ClimateCrisis  1.660826e+09            \n297  wr7g1b  ClimateCrisis  1.660790e+09            \n298  wm9xk8  ClimateCrisis  1.660273e+09            \n299  wjeu3s  ClimateCrisis  1.659980e+09            \n\n                                              post_url  \\\n0    https://grist.org/climate/oregons-air-quality-...   \n1    https://www.bbc.com/news/world-latin-america-5...   \n2                  https://i.redd.it/rgvgen324ta51.jpg   \n3    https://www.theguardian.com/environment/2020/f...   \n4    https://dailyhive.com/vancouver/greta-thunberg...   \n..                                                 ...   \n295  https://apnews.com/article/floods-indonesia-ja...   \n296  https://apnews.com/article/floods-bangladesh-d...   \n297  https://apnews.com/article/science-middle-east...   \n298  https://apnews.com/article/world-news-hungary-...   \n299  https://apnews.com/article/floods-tornadoes-bi...   \n\n                                            post_title link_flair_text  score  \\\n0    Oregon’s air quality is so far beyond ‘hazardo...            None     15   \n1    Brazil: Amazon land defender Zezico Guajajara ...            None     17   \n2                                           Fi(ni)shed            None     14   \n3    ‘The only uncertainty is how long we’ll last’:...            None     13   \n4    Looks like Greta Thunberg isn't buying Justin ...            None     14   \n..                                                 ...             ...    ...   \n295  Pictures From Indonesia: 10 Photos Of People W...            None      3   \n296  Pictures From Bangladesh: Climate Migration: 1...            None      3   \n297  Global Warming: Scientists Warn Of Dire Effect...            None      3   \n298  Pictures From Hungary: 10 Photos Of People Str...            None      3   \n299  US President Joe Biden & His Wife Jill Join De...            None      3   \n\n     num_comments  upvote_ratio  \n0               2          1.00  \n1               2          1.00  \n2               1          1.00  \n3               0          0.93  \n4               1          1.00  \n..            ...           ...  \n295             1          1.00  \n296             0          1.00  \n297             0          1.00  \n298             0          0.80  \n299             0          0.80  \n\n[300 rows x 10 columns]",
      "text/html": "<div>\n<style scoped>\n    .dataframe tbody tr th:only-of-type {\n        vertical-align: middle;\n    }\n\n    .dataframe tbody tr th {\n        vertical-align: top;\n    }\n\n    .dataframe thead th {\n        text-align: right;\n    }\n</style>\n<table border=\"1\" class=\"dataframe\">\n  <thead>\n    <tr style=\"text-align: right;\">\n      <th></th>\n      <th>post_id</th>\n      <th>subreddit</th>\n      <th>created_utc</th>\n      <th>selftext</th>\n      <th>post_url</th>\n      <th>post_title</th>\n      <th>link_flair_text</th>\n      <th>score</th>\n      <th>num_comments</th>\n      <th>upvote_ratio</th>\n    </tr>\n  </thead>\n  <tbody>\n    <tr>\n      <th>0</th>\n      <td>iroh4c</td>\n      <td>ClimateCrisis</td>\n      <td>1.599958e+09</td>\n      <td></td>\n      <td>https://grist.org/climate/oregons-air-quality-...</td>\n      <td>Oregon’s air quality is so far beyond ‘hazardo...</td>\n      <td>None</td>\n      <td>15</td>\n      <td>2</td>\n      <td>1.00</td>\n    </tr>\n    <tr>\n      <th>1</th>\n      <td>g2zapw</td>\n      <td>ClimateCrisis</td>\n      <td>1.587119e+09</td>\n      <td></td>\n      <td>https://www.bbc.com/news/world-latin-america-5...</td>\n      <td>Brazil: Amazon land defender Zezico Guajajara ...</td>\n      <td>None</td>\n      <td>17</td>\n      <td>2</td>\n      <td>1.00</td>\n    </tr>\n    <tr>\n      <th>2</th>\n      <td>hqzo7h</td>\n      <td>ClimateCrisis</td>\n      <td>1.594726e+09</td>\n      <td></td>\n      <td>https://i.redd.it/rgvgen324ta51.jpg</td>\n      <td>Fi(ni)shed</td>\n      <td>None</td>\n      <td>14</td>\n      <td>1</td>\n      <td>1.00</td>\n    </tr>\n    <tr>\n      <th>3</th>\n      <td>f5e1o5</td>\n      <td>ClimateCrisis</td>\n      <td>1.581968e+09</td>\n      <td></td>\n      <td>https://www.theguardian.com/environment/2020/f...</td>\n      <td>‘The only uncertainty is how long we’ll last’:...</td>\n      <td>None</td>\n      <td>13</td>\n      <td>0</td>\n      <td>0.93</td>\n    </tr>\n    <tr>\n      <th>4</th>\n      <td>ezy7wf</td>\n      <td>ClimateCrisis</td>\n      <td>1.581020e+09</td>\n      <td></td>\n      <td>https://dailyhive.com/vancouver/greta-thunberg...</td>\n      <td>Looks like Greta Thunberg isn't buying Justin ...</td>\n      <td>None</td>\n      <td>14</td>\n      <td>1</td>\n      <td>1.00</td>\n    </tr>\n    <tr>\n      <th>...</th>\n      <td>...</td>\n      <td>...</td>\n      <td>...</td>\n      <td>...</td>\n      <td>...</td>\n      <td>...</td>\n      <td>...</td>\n      <td>...</td>\n      <td>...</td>\n      <td>...</td>\n    </tr>\n    <tr>\n      <th>295</th>\n      <td>x36qdq</td>\n      <td>ClimateCrisis</td>\n      <td>1.662036e+09</td>\n      <td></td>\n      <td>https://apnews.com/article/floods-indonesia-ja...</td>\n      <td>Pictures From Indonesia: 10 Photos Of People W...</td>\n      <td>None</td>\n      <td>3</td>\n      <td>1</td>\n      <td>1.00</td>\n    </tr>\n    <tr>\n      <th>296</th>\n      <td>wrik9q</td>\n      <td>ClimateCrisis</td>\n      <td>1.660826e+09</td>\n      <td></td>\n      <td>https://apnews.com/article/floods-bangladesh-d...</td>\n      <td>Pictures From Bangladesh: Climate Migration: 1...</td>\n      <td>None</td>\n      <td>3</td>\n      <td>0</td>\n      <td>1.00</td>\n    </tr>\n    <tr>\n      <th>297</th>\n      <td>wr7g1b</td>\n      <td>ClimateCrisis</td>\n      <td>1.660790e+09</td>\n      <td></td>\n      <td>https://apnews.com/article/science-middle-east...</td>\n      <td>Global Warming: Scientists Warn Of Dire Effect...</td>\n      <td>None</td>\n      <td>3</td>\n      <td>0</td>\n      <td>1.00</td>\n    </tr>\n    <tr>\n      <th>298</th>\n      <td>wm9xk8</td>\n      <td>ClimateCrisis</td>\n      <td>1.660273e+09</td>\n      <td></td>\n      <td>https://apnews.com/article/world-news-hungary-...</td>\n      <td>Pictures From Hungary: 10 Photos Of People Str...</td>\n      <td>None</td>\n      <td>3</td>\n      <td>0</td>\n      <td>0.80</td>\n    </tr>\n    <tr>\n      <th>299</th>\n      <td>wjeu3s</td>\n      <td>ClimateCrisis</td>\n      <td>1.659980e+09</td>\n      <td></td>\n      <td>https://apnews.com/article/floods-tornadoes-bi...</td>\n      <td>US President Joe Biden &amp; His Wife Jill Join De...</td>\n      <td>None</td>\n      <td>3</td>\n      <td>0</td>\n      <td>0.80</td>\n    </tr>\n  </tbody>\n</table>\n<p>300 rows × 10 columns</p>\n</div>"
     },
     "execution_count": 19,
     "metadata": {},
     "output_type": "execute_result"
    }
   ],
   "source": [
    "posts_df"
   ],
   "metadata": {
    "collapsed": false,
    "pycharm": {
     "name": "#%%\n"
    }
   }
  },
  {
   "cell_type": "markdown",
   "source": [
    "# Get comments from posts"
   ],
   "metadata": {
    "collapsed": false,
    "pycharm": {
     "name": "#%% md\n"
    }
   }
  },
  {
   "cell_type": "code",
   "execution_count": 21,
   "outputs": [
    {
     "name": "stdout",
     "output_type": "stream",
     "text": [
      "This is the best tl;dr I could make, [original](https://www.bbc.com/news/world-latin-america-52135362) reduced by 77%. (I'm a bot)\n",
      "*****\n",
      "> The body of Zezico Guajajara, of the Guajajara tribe, was found near his village on Tuesday.\n",
      "\n",
      "> In a statement issued on Wednesday, indigenous leader Olimpio Guajajara described him as &quot;Another fellow warrior - a man who defended life&quot;.\n",
      "\n",
      "> &quot;The Guardians have been mercilessly targeted by powerful logging mafias illegally exploiting the valuable hardwoods in the Arariboia indigenous territory, home to both the Guajajara indigenous people and uncontacted members of the Awa tribe,&quot; it said in a statement.\n",
      "\n",
      "\n",
      "*****\n",
      "[**Extended Summary**](http://np.reddit.com/r/autotldr/comments/g33o2y/brazil_amazon_land_defender_zezico_guajajara_shot/) | [FAQ](http://np.reddit.com/r/autotldr/comments/31b9fm/faq_autotldr_bot/ \"Version 2.02, ~478103 tl;drs so far.\") | [Feedback](http://np.reddit.com/message/compose?to=%23autotldr \"PM's and comments are monitored, constructive feedback is welcome.\") | *Top* *keywords*: **indigenous**^#1 **Guajajara**^#2 **territory**^#3 **Forest**^#4 **protect**^#5\n"
     ]
    }
   ],
   "source": [
    "submission = reddit.submission(\"g2zapw\") # POST ID\n",
    "\n",
    "submission.comments.replace_more(limit=None)\n",
    "for comment in submission.comments.list():\n",
    "    print(comment.body)"
   ],
   "metadata": {
    "collapsed": false,
    "pycharm": {
     "name": "#%%\n"
    }
   }
  },
  {
   "cell_type": "code",
   "execution_count": 22,
   "outputs": [],
   "source": [
    "# Get comments on all posts\n",
    "comments_list = []\n",
    "\n",
    "for post_id in posts_df['post_id']:\n",
    "    submission = reddit.submission(post_id)\n",
    "\n",
    "    submission.comments.replace_more(limit=None)\n",
    "    for comment in submission.comments.list():\n",
    "        comments_list.append({'post_id': post_id, 'comment': comment.body})"
   ],
   "metadata": {
    "collapsed": false,
    "pycharm": {
     "name": "#%%\n"
    }
   }
  },
  {
   "cell_type": "code",
   "execution_count": 23,
   "outputs": [],
   "source": [
    "# creating a dataframe\n",
    "comments_df = pd.DataFrame(comments_list)\n",
    "comments_df.to_csv('CLIMATE_comments.csv', header=True, index=False)"
   ],
   "metadata": {
    "collapsed": false,
    "pycharm": {
     "name": "#%%\n"
    }
   }
  },
  {
   "cell_type": "code",
   "execution_count": 24,
   "outputs": [
    {
     "data": {
      "text/plain": "     post_id                                            comment\n0     iroh4c  Dystopia is here.  The climate crisis needs to...\n1     iroh4c               Too late given the candidate choices\n2     g2zapw  This is the best tl;dr I could make, [original...\n3     hqzo7h                                          [deleted]\n4     hqzo7h  Most industrial animal ag “farms” today also g...\n..       ...                                                ...\n203    a2nst  Shouldn't we be doing it based on scientific o...\n204    a2nst  Yes! But, I feel that, the media more than oft...\n205  10m9wat                                  This is not news.\n206   xftri8        This is awful :( I hope the lost are found.\n207   x36qdq  As always the most vulnerable people are being...\n\n[208 rows x 2 columns]",
      "text/html": "<div>\n<style scoped>\n    .dataframe tbody tr th:only-of-type {\n        vertical-align: middle;\n    }\n\n    .dataframe tbody tr th {\n        vertical-align: top;\n    }\n\n    .dataframe thead th {\n        text-align: right;\n    }\n</style>\n<table border=\"1\" class=\"dataframe\">\n  <thead>\n    <tr style=\"text-align: right;\">\n      <th></th>\n      <th>post_id</th>\n      <th>comment</th>\n    </tr>\n  </thead>\n  <tbody>\n    <tr>\n      <th>0</th>\n      <td>iroh4c</td>\n      <td>Dystopia is here.  The climate crisis needs to...</td>\n    </tr>\n    <tr>\n      <th>1</th>\n      <td>iroh4c</td>\n      <td>Too late given the candidate choices</td>\n    </tr>\n    <tr>\n      <th>2</th>\n      <td>g2zapw</td>\n      <td>This is the best tl;dr I could make, [original...</td>\n    </tr>\n    <tr>\n      <th>3</th>\n      <td>hqzo7h</td>\n      <td>[deleted]</td>\n    </tr>\n    <tr>\n      <th>4</th>\n      <td>hqzo7h</td>\n      <td>Most industrial animal ag “farms” today also g...</td>\n    </tr>\n    <tr>\n      <th>...</th>\n      <td>...</td>\n      <td>...</td>\n    </tr>\n    <tr>\n      <th>203</th>\n      <td>a2nst</td>\n      <td>Shouldn't we be doing it based on scientific o...</td>\n    </tr>\n    <tr>\n      <th>204</th>\n      <td>a2nst</td>\n      <td>Yes! But, I feel that, the media more than oft...</td>\n    </tr>\n    <tr>\n      <th>205</th>\n      <td>10m9wat</td>\n      <td>This is not news.</td>\n    </tr>\n    <tr>\n      <th>206</th>\n      <td>xftri8</td>\n      <td>This is awful :( I hope the lost are found.</td>\n    </tr>\n    <tr>\n      <th>207</th>\n      <td>x36qdq</td>\n      <td>As always the most vulnerable people are being...</td>\n    </tr>\n  </tbody>\n</table>\n<p>208 rows × 2 columns</p>\n</div>"
     },
     "execution_count": 24,
     "metadata": {},
     "output_type": "execute_result"
    }
   ],
   "source": [
    "comments_df"
   ],
   "metadata": {
    "collapsed": false,
    "pycharm": {
     "name": "#%%\n"
    }
   }
  },
  {
   "cell_type": "code",
   "execution_count": null,
   "outputs": [],
   "source": [],
   "metadata": {
    "collapsed": false,
    "pycharm": {
     "name": "#%%\n"
    }
   }
  }
 ],
 "metadata": {
  "kernelspec": {
   "display_name": "Python 3",
   "language": "python",
   "name": "python3"
  },
  "language_info": {
   "codemirror_mode": {
    "name": "ipython",
    "version": 2
   },
   "file_extension": ".py",
   "mimetype": "text/x-python",
   "name": "python",
   "nbconvert_exporter": "python",
   "pygments_lexer": "ipython2",
   "version": "2.7.6"
  }
 },
 "nbformat": 4,
 "nbformat_minor": 0
}